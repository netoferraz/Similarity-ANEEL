{
 "cells": [
  {
   "cell_type": "markdown",
   "metadata": {
    "colab_type": "text",
    "id": "TfMUNBcAS1Hl"
   },
   "source": [
    "# Text Representation of norms from ANEEL (National Electric Power Agency of Brazil).\n",
    "\n",
    "The models, encoders, strategies and code snippets were obtained in [Pierre Guillou Language Models](https://github.com/piegu/language-models). \n",
    "\n",
    "The ideia is to use a Portuguese Language Model with MultiFit and SentencePiece Tokenization to represent texts from ANEEL e relate the most similar.\n",
    "\n",
    "Developed by IEEE Computational Intelligence Society Student Chapter of University of Brasilia, Brazil.\n"
   ]
  },
  {
   "cell_type": "markdown",
   "metadata": {
    "colab_type": "text",
    "id": "wvGB2yNnf7KB"
   },
   "source": [
    "### Import and manage the modules and libraries."
   ]
  },
  {
   "cell_type": "code",
   "execution_count": 1,
   "metadata": {
    "colab": {
     "base_uri": "https://localhost:8080/",
     "height": 1000
    },
    "colab_type": "code",
    "id": "VMtxdKU3An6U",
    "outputId": "2182c3e8-bae9-4ace-fdb5-c26504bb6972"
   },
   "outputs": [
    {
     "name": "stdout",
     "output_type": "stream",
     "text": [
      "Collecting sentencepiece\n",
      "\u001b[?25l  Downloading https://files.pythonhosted.org/packages/74/f4/2d5214cbf13d06e7cb2c20d84115ca25b53ea76fa1f0ade0e3c9749de214/sentencepiece-0.1.85-cp36-cp36m-manylinux1_x86_64.whl (1.0MB)\n",
      "\r",
      "\u001b[K     |▎                               | 10kB 26.3MB/s eta 0:00:01\r",
      "\u001b[K     |▋                               | 20kB 33.8MB/s eta 0:00:01\r",
      "\u001b[K     |█                               | 30kB 41.0MB/s eta 0:00:01\r",
      "\u001b[K     |█▎                              | 40kB 46.2MB/s eta 0:00:01\r",
      "\u001b[K     |█▋                              | 51kB 40.8MB/s eta 0:00:01\r",
      "\u001b[K     |██                              | 61kB 42.5MB/s eta 0:00:01\r",
      "\u001b[K     |██▏                             | 71kB 33.5MB/s eta 0:00:01\r",
      "\u001b[K     |██▌                             | 81kB 35.3MB/s eta 0:00:01\r",
      "\u001b[K     |██▉                             | 92kB 37.2MB/s eta 0:00:01\r",
      "\u001b[K     |███▏                            | 102kB 34.5MB/s eta 0:00:01\r",
      "\u001b[K     |███▌                            | 112kB 34.5MB/s eta 0:00:01\r",
      "\u001b[K     |███▉                            | 122kB 34.5MB/s eta 0:00:01\r",
      "\u001b[K     |████                            | 133kB 34.5MB/s eta 0:00:01\r",
      "\u001b[K     |████▍                           | 143kB 34.5MB/s eta 0:00:01\r",
      "\u001b[K     |████▊                           | 153kB 34.5MB/s eta 0:00:01\r",
      "\u001b[K     |█████                           | 163kB 34.5MB/s eta 0:00:01\r",
      "\u001b[K     |█████▍                          | 174kB 34.5MB/s eta 0:00:01\r",
      "\u001b[K     |█████▊                          | 184kB 34.5MB/s eta 0:00:01\r",
      "\u001b[K     |██████                          | 194kB 34.5MB/s eta 0:00:01\r",
      "\u001b[K     |██████▎                         | 204kB 34.5MB/s eta 0:00:01\r",
      "\u001b[K     |██████▋                         | 215kB 34.5MB/s eta 0:00:01\r",
      "\u001b[K     |███████                         | 225kB 34.5MB/s eta 0:00:01\r",
      "\u001b[K     |███████▎                        | 235kB 34.5MB/s eta 0:00:01\r",
      "\u001b[K     |███████▋                        | 245kB 34.5MB/s eta 0:00:01\r",
      "\u001b[K     |███████▉                        | 256kB 34.5MB/s eta 0:00:01\r",
      "\u001b[K     |████████▏                       | 266kB 34.5MB/s eta 0:00:01\r",
      "\u001b[K     |████████▌                       | 276kB 34.5MB/s eta 0:00:01\r",
      "\u001b[K     |████████▉                       | 286kB 34.5MB/s eta 0:00:01\r",
      "\u001b[K     |█████████▏                      | 296kB 34.5MB/s eta 0:00:01\r",
      "\u001b[K     |█████████▌                      | 307kB 34.5MB/s eta 0:00:01\r",
      "\u001b[K     |█████████▊                      | 317kB 34.5MB/s eta 0:00:01\r",
      "\u001b[K     |██████████                      | 327kB 34.5MB/s eta 0:00:01\r",
      "\u001b[K     |██████████▍                     | 337kB 34.5MB/s eta 0:00:01\r",
      "\u001b[K     |██████████▊                     | 348kB 34.5MB/s eta 0:00:01\r",
      "\u001b[K     |███████████                     | 358kB 34.5MB/s eta 0:00:01\r",
      "\u001b[K     |███████████▍                    | 368kB 34.5MB/s eta 0:00:01\r",
      "\u001b[K     |███████████▋                    | 378kB 34.5MB/s eta 0:00:01\r",
      "\u001b[K     |████████████                    | 389kB 34.5MB/s eta 0:00:01\r",
      "\u001b[K     |████████████▎                   | 399kB 34.5MB/s eta 0:00:01\r",
      "\u001b[K     |████████████▋                   | 409kB 34.5MB/s eta 0:00:01\r",
      "\u001b[K     |█████████████                   | 419kB 34.5MB/s eta 0:00:01\r",
      "\u001b[K     |█████████████▎                  | 430kB 34.5MB/s eta 0:00:01\r",
      "\u001b[K     |█████████████▌                  | 440kB 34.5MB/s eta 0:00:01\r",
      "\u001b[K     |█████████████▉                  | 450kB 34.5MB/s eta 0:00:01\r",
      "\u001b[K     |██████████████▏                 | 460kB 34.5MB/s eta 0:00:01\r",
      "\u001b[K     |██████████████▌                 | 471kB 34.5MB/s eta 0:00:01\r",
      "\u001b[K     |██████████████▉                 | 481kB 34.5MB/s eta 0:00:01\r",
      "\u001b[K     |███████████████▏                | 491kB 34.5MB/s eta 0:00:01\r",
      "\u001b[K     |███████████████▍                | 501kB 34.5MB/s eta 0:00:01\r",
      "\u001b[K     |███████████████▊                | 512kB 34.5MB/s eta 0:00:01\r",
      "\u001b[K     |████████████████                | 522kB 34.5MB/s eta 0:00:01\r",
      "\u001b[K     |████████████████▍               | 532kB 34.5MB/s eta 0:00:01\r",
      "\u001b[K     |████████████████▊               | 542kB 34.5MB/s eta 0:00:01\r",
      "\u001b[K     |█████████████████               | 552kB 34.5MB/s eta 0:00:01\r",
      "\u001b[K     |█████████████████▎              | 563kB 34.5MB/s eta 0:00:01\r",
      "\u001b[K     |█████████████████▋              | 573kB 34.5MB/s eta 0:00:01\r",
      "\u001b[K     |██████████████████              | 583kB 34.5MB/s eta 0:00:01\r",
      "\u001b[K     |██████████████████▎             | 593kB 34.5MB/s eta 0:00:01\r",
      "\u001b[K     |██████████████████▋             | 604kB 34.5MB/s eta 0:00:01\r",
      "\u001b[K     |███████████████████             | 614kB 34.5MB/s eta 0:00:01\r",
      "\u001b[K     |███████████████████▏            | 624kB 34.5MB/s eta 0:00:01\r",
      "\u001b[K     |███████████████████▌            | 634kB 34.5MB/s eta 0:00:01\r",
      "\u001b[K     |███████████████████▉            | 645kB 34.5MB/s eta 0:00:01\r",
      "\u001b[K     |████████████████████▏           | 655kB 34.5MB/s eta 0:00:01\r",
      "\u001b[K     |████████████████████▌           | 665kB 34.5MB/s eta 0:00:01\r",
      "\u001b[K     |████████████████████▉           | 675kB 34.5MB/s eta 0:00:01\r",
      "\u001b[K     |█████████████████████▏          | 686kB 34.5MB/s eta 0:00:01\r",
      "\u001b[K     |█████████████████████▍          | 696kB 34.5MB/s eta 0:00:01\r",
      "\u001b[K     |█████████████████████▊          | 706kB 34.5MB/s eta 0:00:01\r",
      "\u001b[K     |██████████████████████          | 716kB 34.5MB/s eta 0:00:01\r",
      "\u001b[K     |██████████████████████▍         | 727kB 34.5MB/s eta 0:00:01\r",
      "\u001b[K     |██████████████████████▊         | 737kB 34.5MB/s eta 0:00:01\r",
      "\u001b[K     |███████████████████████         | 747kB 34.5MB/s eta 0:00:01\r",
      "\u001b[K     |███████████████████████▎        | 757kB 34.5MB/s eta 0:00:01\r",
      "\u001b[K     |███████████████████████▋        | 768kB 34.5MB/s eta 0:00:01\r",
      "\u001b[K     |████████████████████████        | 778kB 34.5MB/s eta 0:00:01\r",
      "\u001b[K     |████████████████████████▎       | 788kB 34.5MB/s eta 0:00:01\r",
      "\u001b[K     |████████████████████████▋       | 798kB 34.5MB/s eta 0:00:01\r",
      "\u001b[K     |█████████████████████████       | 808kB 34.5MB/s eta 0:00:01\r",
      "\u001b[K     |█████████████████████████▏      | 819kB 34.5MB/s eta 0:00:01\r",
      "\u001b[K     |█████████████████████████▌      | 829kB 34.5MB/s eta 0:00:01\r",
      "\u001b[K     |█████████████████████████▉      | 839kB 34.5MB/s eta 0:00:01\r",
      "\u001b[K     |██████████████████████████▏     | 849kB 34.5MB/s eta 0:00:01\r",
      "\u001b[K     |██████████████████████████▌     | 860kB 34.5MB/s eta 0:00:01\r",
      "\u001b[K     |██████████████████████████▉     | 870kB 34.5MB/s eta 0:00:01\r",
      "\u001b[K     |███████████████████████████     | 880kB 34.5MB/s eta 0:00:01\r",
      "\u001b[K     |███████████████████████████▍    | 890kB 34.5MB/s eta 0:00:01\r",
      "\u001b[K     |███████████████████████████▊    | 901kB 34.5MB/s eta 0:00:01\r",
      "\u001b[K     |████████████████████████████    | 911kB 34.5MB/s eta 0:00:01\r",
      "\u001b[K     |████████████████████████████▍   | 921kB 34.5MB/s eta 0:00:01\r",
      "\u001b[K     |████████████████████████████▊   | 931kB 34.5MB/s eta 0:00:01\r",
      "\u001b[K     |█████████████████████████████   | 942kB 34.5MB/s eta 0:00:01\r",
      "\u001b[K     |█████████████████████████████▎  | 952kB 34.5MB/s eta 0:00:01\r",
      "\u001b[K     |█████████████████████████████▋  | 962kB 34.5MB/s eta 0:00:01\r",
      "\u001b[K     |██████████████████████████████  | 972kB 34.5MB/s eta 0:00:01\r",
      "\u001b[K     |██████████████████████████████▎ | 983kB 34.5MB/s eta 0:00:01\r",
      "\u001b[K     |██████████████████████████████▋ | 993kB 34.5MB/s eta 0:00:01\r",
      "\u001b[K     |██████████████████████████████▉ | 1.0MB 34.5MB/s eta 0:00:01\r",
      "\u001b[K     |███████████████████████████████▏| 1.0MB 34.5MB/s eta 0:00:01\r",
      "\u001b[K     |███████████████████████████████▌| 1.0MB 34.5MB/s eta 0:00:01\r",
      "\u001b[K     |███████████████████████████████▉| 1.0MB 34.5MB/s eta 0:00:01\r",
      "\u001b[K     |████████████████████████████████| 1.0MB 34.5MB/s \n",
      "\u001b[?25hInstalling collected packages: sentencepiece\n",
      "Successfully installed sentencepiece-0.1.85\n",
      "Collecting Ninja\n",
      "\u001b[?25l  Downloading https://files.pythonhosted.org/packages/cc/bf/32e5dd5cce6543374e4050a7292099402ab80787eddf3732810a55b37763/ninja-1.9.0.post1-py3-none-manylinux1_x86_64.whl (98kB)\n",
      "\u001b[K     |████████████████████████████████| 102kB 11.8MB/s \n",
      "\u001b[?25hInstalling collected packages: Ninja\n",
      "Successfully installed Ninja-1.9.0.post1\n",
      "Collecting fastai\n",
      "\u001b[?25l  Downloading https://files.pythonhosted.org/packages/f5/e4/a7025bf28f303dbda0f862c09a7f957476fa92c9271643b4061a81bb595f/fastai-1.0.60-py3-none-any.whl (237kB)\n",
      "\u001b[K     |████████████████████████████████| 245kB 33.1MB/s \n",
      "\u001b[?25hRequirement already satisfied, skipping upgrade: scipy in /usr/local/lib/python3.6/dist-packages (from fastai) (1.3.3)\n",
      "Collecting fastprogress>=0.2.1\n",
      "  Downloading https://files.pythonhosted.org/packages/41/67/347d73405b8612e436a4278f577186a8b783fe757df549ba1a82a2986727/fastprogress-0.2.2-py3-none-any.whl\n",
      "Requirement already satisfied, skipping upgrade: Pillow in /usr/local/lib/python3.6/dist-packages (from fastai) (4.3.0)\n",
      "Requirement already satisfied, skipping upgrade: spacy>=2.0.18 in /usr/local/lib/python3.6/dist-packages (from fastai) (2.1.9)\n",
      "Requirement already satisfied, skipping upgrade: torch>=1.0.0 in /usr/local/lib/python3.6/dist-packages (from fastai) (1.3.1)\n",
      "Requirement already satisfied, skipping upgrade: torchvision in /usr/local/lib/python3.6/dist-packages (from fastai) (0.4.2)\n",
      "Requirement already satisfied, skipping upgrade: matplotlib in /usr/local/lib/python3.6/dist-packages (from fastai) (3.1.2)\n",
      "Requirement already satisfied, skipping upgrade: numexpr in /usr/local/lib/python3.6/dist-packages (from fastai) (2.7.0)\n",
      "Requirement already satisfied, skipping upgrade: beautifulsoup4 in /usr/local/lib/python3.6/dist-packages (from fastai) (4.6.3)\n",
      "Requirement already satisfied, skipping upgrade: bottleneck in /usr/local/lib/python3.6/dist-packages (from fastai) (1.3.1)\n",
      "Requirement already satisfied, skipping upgrade: pyyaml in /usr/local/lib/python3.6/dist-packages (from fastai) (3.13)\n",
      "Requirement already satisfied, skipping upgrade: numpy>=1.15 in /usr/local/lib/python3.6/dist-packages (from fastai) (1.17.4)\n",
      "Requirement already satisfied, skipping upgrade: pandas in /usr/local/lib/python3.6/dist-packages (from fastai) (0.25.3)\n",
      "Requirement already satisfied, skipping upgrade: dataclasses; python_version < \"3.7\" in /usr/local/lib/python3.6/dist-packages (from fastai) (0.7)\n",
      "Requirement already satisfied, skipping upgrade: packaging in /usr/local/lib/python3.6/dist-packages (from fastai) (19.2)\n",
      "Requirement already satisfied, skipping upgrade: requests in /usr/local/lib/python3.6/dist-packages (from fastai) (2.21.0)\n",
      "Requirement already satisfied, skipping upgrade: nvidia-ml-py3 in /usr/local/lib/python3.6/dist-packages (from fastai) (7.352.0)\n",
      "Requirement already satisfied, skipping upgrade: olefile in /usr/local/lib/python3.6/dist-packages (from Pillow->fastai) (0.46)\n",
      "Requirement already satisfied, skipping upgrade: cymem<2.1.0,>=2.0.2 in /usr/local/lib/python3.6/dist-packages (from spacy>=2.0.18->fastai) (2.0.3)\n",
      "Requirement already satisfied, skipping upgrade: thinc<7.1.0,>=7.0.8 in /usr/local/lib/python3.6/dist-packages (from spacy>=2.0.18->fastai) (7.0.8)\n",
      "Requirement already satisfied, skipping upgrade: plac<1.0.0,>=0.9.6 in /usr/local/lib/python3.6/dist-packages (from spacy>=2.0.18->fastai) (0.9.6)\n",
      "Requirement already satisfied, skipping upgrade: blis<0.3.0,>=0.2.2 in /usr/local/lib/python3.6/dist-packages (from spacy>=2.0.18->fastai) (0.2.4)\n",
      "Requirement already satisfied, skipping upgrade: wasabi<1.1.0,>=0.2.0 in /usr/local/lib/python3.6/dist-packages (from spacy>=2.0.18->fastai) (0.4.2)\n",
      "Requirement already satisfied, skipping upgrade: srsly<1.1.0,>=0.0.6 in /usr/local/lib/python3.6/dist-packages (from spacy>=2.0.18->fastai) (0.2.0)\n",
      "Requirement already satisfied, skipping upgrade: murmurhash<1.1.0,>=0.28.0 in /usr/local/lib/python3.6/dist-packages (from spacy>=2.0.18->fastai) (1.0.2)\n",
      "Requirement already satisfied, skipping upgrade: preshed<2.1.0,>=2.0.1 in /usr/local/lib/python3.6/dist-packages (from spacy>=2.0.18->fastai) (2.0.1)\n",
      "Requirement already satisfied, skipping upgrade: six in /usr/local/lib/python3.6/dist-packages (from torchvision->fastai) (1.12.0)\n",
      "Requirement already satisfied, skipping upgrade: kiwisolver>=1.0.1 in /usr/local/lib/python3.6/dist-packages (from matplotlib->fastai) (1.1.0)\n",
      "Requirement already satisfied, skipping upgrade: python-dateutil>=2.1 in /usr/local/lib/python3.6/dist-packages (from matplotlib->fastai) (2.6.1)\n",
      "Requirement already satisfied, skipping upgrade: pyparsing!=2.0.4,!=2.1.2,!=2.1.6,>=2.0.1 in /usr/local/lib/python3.6/dist-packages (from matplotlib->fastai) (2.4.5)\n",
      "Requirement already satisfied, skipping upgrade: cycler>=0.10 in /usr/local/lib/python3.6/dist-packages (from matplotlib->fastai) (0.10.0)\n",
      "Requirement already satisfied, skipping upgrade: pytz>=2017.2 in /usr/local/lib/python3.6/dist-packages (from pandas->fastai) (2018.9)\n",
      "Requirement already satisfied, skipping upgrade: certifi>=2017.4.17 in /usr/local/lib/python3.6/dist-packages (from requests->fastai) (2019.11.28)\n",
      "Requirement already satisfied, skipping upgrade: chardet<3.1.0,>=3.0.2 in /usr/local/lib/python3.6/dist-packages (from requests->fastai) (3.0.4)\n",
      "Requirement already satisfied, skipping upgrade: urllib3<1.25,>=1.21.1 in /usr/local/lib/python3.6/dist-packages (from requests->fastai) (1.24.3)\n",
      "Requirement already satisfied, skipping upgrade: idna<2.9,>=2.5 in /usr/local/lib/python3.6/dist-packages (from requests->fastai) (2.8)\n",
      "Requirement already satisfied, skipping upgrade: tqdm<5.0.0,>=4.10.0 in /usr/local/lib/python3.6/dist-packages (from thinc<7.1.0,>=7.0.8->spacy>=2.0.18->fastai) (4.28.1)\n",
      "Requirement already satisfied, skipping upgrade: setuptools in /usr/local/lib/python3.6/dist-packages (from kiwisolver>=1.0.1->matplotlib->fastai) (42.0.2)\n",
      "Installing collected packages: fastprogress, fastai\n",
      "  Found existing installation: fastprogress 0.1.22\n",
      "    Uninstalling fastprogress-0.1.22:\n",
      "      Successfully uninstalled fastprogress-0.1.22\n",
      "  Found existing installation: fastai 1.0.59\n",
      "    Uninstalling fastai-1.0.59:\n",
      "      Successfully uninstalled fastai-1.0.59\n",
      "Successfully installed fastai-1.0.60 fastprogress-0.2.2\n"
     ]
    },
    {
     "data": {
      "application/vnd.colab-display-data+json": {
       "pip_warning": {
        "packages": [
         "fastai",
         "fastprogress"
        ]
       }
      }
     },
     "metadata": {
      "tags": []
     },
     "output_type": "display_data"
    }
   ],
   "source": [
    "import gdown\n",
    "  # Allows to download files from its URL\n",
    "\n",
    "from fastai import *\n",
    "from fastai.text import *\n",
    "from fastai.callbacks import *\n",
    "\n",
    "! pip install sentencepiece\n",
    "  # Intall module to make the SP tokenization\n",
    "\n",
    "! pip install Ninja\n",
    "! pip install -U fastai\n",
    "  # Ninja is required to use QRNN architecture.\n",
    "\n",
    "%reload_ext autoreload\n",
    "%autoreload 2\n",
    "%matplotlib inline\n"
   ]
  },
  {
   "cell_type": "markdown",
   "metadata": {
    "colab_type": "text",
    "id": "vkrMXKx9nBlP"
   },
   "source": [
    "### Importing and extracting of the model.\n",
    "\n",
    "The '.tgz' file was downloaded from the link above and uploaded into the Google Colab plataform."
   ]
  },
  {
   "cell_type": "code",
   "execution_count": 0,
   "metadata": {
    "colab": {},
    "colab_type": "code",
    "id": "G4Ifw5_QnikG"
   },
   "outputs": [],
   "source": [
    "def download(id):\n",
    "  url = 'https://drive.google.com/uc?id=' + str(id)\n",
    "  gdown.download(url, output = None, quiet = False)"
   ]
  },
  {
   "cell_type": "code",
   "execution_count": 3,
   "metadata": {
    "colab": {
     "base_uri": "https://localhost:8080/",
     "height": 85
    },
    "colab_type": "code",
    "id": "IALRFs7hAxeK",
    "outputId": "d13c6311-2720-4ec8-a54c-54cf2d9627c8"
   },
   "outputs": [
    {
     "name": "stderr",
     "output_type": "stream",
     "text": [
      "Downloading...\n",
      "From: https://drive.google.com/uc?id=1NmH1Ug1YeontgAlgbvZxNZ115WNoZNjq\n",
      "To: /content/pt_lm_sp15_multifit.tgz\n",
      "194MB [00:05, 35.2MB/s]\n"
     ]
    }
   ],
   "source": [
    "download(\"1NmH1Ug1YeontgAlgbvZxNZ115WNoZNjq\")"
   ]
  },
  {
   "cell_type": "code",
   "execution_count": 4,
   "metadata": {
    "colab": {
     "base_uri": "https://localhost:8080/",
     "height": 34
    },
    "colab_type": "code",
    "id": "aGs5s5h2A16_",
    "outputId": "799e7409-ed14-493f-b500-eecb6a7890fc"
   },
   "outputs": [
    {
     "name": "stdout",
     "output_type": "stream",
     "text": [
      "pt_lm_sp15_multifit.tgz  sample_data\n"
     ]
    }
   ],
   "source": [
    "! ls"
   ]
  },
  {
   "cell_type": "code",
   "execution_count": 5,
   "metadata": {
    "colab": {
     "base_uri": "https://localhost:8080/",
     "height": 136
    },
    "colab_type": "code",
    "id": "w2g71PMynsJV",
    "outputId": "ca9ed90c-757d-4a59-a79a-9dc9462bc1ef"
   },
   "outputs": [
    {
     "name": "stdout",
     "output_type": "stream",
     "text": [
      "pt_lm_sp15_multifit/\n",
      "pt_lm_sp15_multifit/pt_wt_sp15_multifit.pth\n",
      "pt_lm_sp15_multifit/pt_wt_sp15_multifit_bwd.pth\n",
      "pt_lm_sp15_multifit/pt_wt_vocab_sp15_multifit.pkl\n",
      "pt_lm_sp15_multifit/pt_wt_vocab_sp15_multifit_bwd.pkl\n",
      "pt_lm_sp15_multifit/spm.model\n",
      "pt_lm_sp15_multifit/spm.vocab\n"
     ]
    }
   ],
   "source": [
    "! tar zxvf pt_lm_sp15_multifit.tgz"
   ]
  },
  {
   "cell_type": "markdown",
   "metadata": {
    "colab_type": "text",
    "id": "PgNxXKc3ojZ9"
   },
   "source": [
    "### Obtaining ANEEL norms DataSet.\n",
    "\n",
    "The target texts have been allocated in a CSV file with additional relevant information.\n",
    "\n",
    "The file (DataSet) is available in a GitHub repository."
   ]
  },
  {
   "cell_type": "code",
   "execution_count": 0,
   "metadata": {
    "colab": {},
    "colab_type": "code",
    "id": "K8IJ2OhXzDlW"
   },
   "outputs": [],
   "source": [
    "! mkdir pt_lm_sp15_multifit/tmp"
   ]
  },
  {
   "cell_type": "code",
   "execution_count": 8,
   "metadata": {
    "colab": {
     "base_uri": "https://localhost:8080/",
     "height": 34
    },
    "colab_type": "code",
    "id": "EE9Y02sqzSl3",
    "outputId": "254ce231-3053-46ba-8685-220f8a10a1cf"
   },
   "outputs": [
    {
     "name": "stdout",
     "output_type": "stream",
     "text": [
      "spm.model  spm.vocab\n"
     ]
    }
   ],
   "source": [
    "! cd pt_lm_sp15_multifit/ ; mv spm.model spm.vocab tmp/\n",
    "! ls pt_lm_sp15_multifit/tmp"
   ]
  },
  {
   "cell_type": "code",
   "execution_count": 0,
   "metadata": {
    "colab": {},
    "colab_type": "code",
    "id": "3Z4DQ3aP5K61"
   },
   "outputs": [],
   "source": [
    "! mkdir models\n",
    "! mv pt_lm_sp15_multifit/* models/"
   ]
  },
  {
   "cell_type": "code",
   "execution_count": 10,
   "metadata": {
    "colab": {
     "base_uri": "https://localhost:8080/",
     "height": 51
    },
    "colab_type": "code",
    "id": "Cyrcf32kEAJc",
    "outputId": "7b80f6da-b108-480a-e998-786f70ac1a66"
   },
   "outputs": [
    {
     "name": "stdout",
     "output_type": "stream",
     "text": [
      "pt_wt_sp15_multifit_bwd.pth  pt_wt_vocab_sp15_multifit_bwd.pkl\ttmp\n",
      "pt_wt_sp15_multifit.pth      pt_wt_vocab_sp15_multifit.pkl\n"
     ]
    }
   ],
   "source": [
    "! ls models/"
   ]
  },
  {
   "cell_type": "markdown",
   "metadata": {
    "colab_type": "text",
    "id": "n8QYy_Fyq7rf"
   },
   "source": [
    "## Initialisation"
   ]
  },
  {
   "cell_type": "code",
   "execution_count": 0,
   "metadata": {
    "colab": {},
    "colab_type": "code",
    "id": "Ofv59e6j3e2Y"
   },
   "outputs": [],
   "source": [
    "bs = 48\n",
    "\n",
    "torch.cuda.set_device(0)"
   ]
  },
  {
   "cell_type": "code",
   "execution_count": 0,
   "metadata": {
    "colab": {},
    "colab_type": "code",
    "id": "lyGOna_P5B6M"
   },
   "outputs": [],
   "source": [
    "lm_fns3 = ['pt_wt_sp15_multifit', 'pt_wt_vocab_sp15_multifit']"
   ]
  },
  {
   "cell_type": "code",
   "execution_count": 0,
   "metadata": {
    "colab": {},
    "colab_type": "code",
    "id": "FcmlDL0z17cc"
   },
   "outputs": [],
   "source": [
    "from sklearn.metrics import f1_score\n",
    "\n",
    "@np_func\n",
    "def f1(inp,targ): return f1_score(targ, np.argmax(inp, axis=-1), average='weighted')"
   ]
  },
  {
   "cell_type": "code",
   "execution_count": 0,
   "metadata": {
    "colab": {},
    "colab_type": "code",
    "id": "MPt_3s2t2AmX"
   },
   "outputs": [],
   "source": [
    "# source: https://github.com/fastai/fastai/blob/master//fastai/layers.py#L300:7\n",
    "# blog: https://bfarzin.github.io/Label-Smoothing/\n",
    "class WeightedLabelSmoothingCrossEntropy(nn.Module):\n",
    "    def __init__(self, weight, eps:float=0.1, reduction='mean'):\n",
    "        super().__init__()\n",
    "        self.weight,self.eps,self.reduction = weight,eps,reduction\n",
    "        \n",
    "    def forward(self, output, target):\n",
    "        c = output.size()[-1]\n",
    "        log_preds = F.log_softmax(output, dim=-1)\n",
    "        if self.reduction=='sum': loss = -log_preds.sum()\n",
    "        else:\n",
    "            loss = -log_preds.sum(dim=-1)\n",
    "            if self.reduction=='mean':  loss = loss.mean()\n",
    "        return loss*self.eps/c + (1-self.eps) * F.nll_loss(log_preds, target, weight=self.weight, reduction=self.reduction)"
   ]
  },
  {
   "cell_type": "code",
   "execution_count": 0,
   "metadata": {
    "colab": {},
    "colab_type": "code",
    "id": "lvV1eMHY2EVH"
   },
   "outputs": [],
   "source": [
    "import warnings\n",
    "warnings.filterwarnings('ignore')  # \"error\", \"ignore\", \"always\", \"default\", \"module\" or \"on\""
   ]
  },
  {
   "cell_type": "markdown",
   "metadata": {
    "colab_type": "text",
    "id": "AyEuZ19CtX8s"
   },
   "source": [
    "### Data"
   ]
  },
  {
   "cell_type": "code",
   "execution_count": 16,
   "metadata": {
    "colab": {
     "base_uri": "https://localhost:8080/",
     "height": 666
    },
    "colab_type": "code",
    "id": "kjx1ZRcjrE-9",
    "outputId": "f724f4bb-45a6-4d3b-b6f8-8d1b7d223999"
   },
   "outputs": [
    {
     "data": {
      "text/html": [
       "<div>\n",
       "<style scoped>\n",
       "    .dataframe tbody tr th:only-of-type {\n",
       "        vertical-align: middle;\n",
       "    }\n",
       "\n",
       "    .dataframe tbody tr th {\n",
       "        vertical-align: top;\n",
       "    }\n",
       "\n",
       "    .dataframe thead th {\n",
       "        text-align: right;\n",
       "    }\n",
       "</style>\n",
       "<table border=\"1\" class=\"dataframe\">\n",
       "  <thead>\n",
       "    <tr style=\"text-align: right;\">\n",
       "      <th></th>\n",
       "      <th>Unnamed: 0</th>\n",
       "      <th>Norma</th>\n",
       "      <th>Data de publicação</th>\n",
       "      <th>Ementa</th>\n",
       "      <th>Órgão de origem</th>\n",
       "      <th>Assuntos</th>\n",
       "      <th>Texto Integral</th>\n",
       "      <th>Tipo</th>\n",
       "      <th>Filename</th>\n",
       "      <th>Texto Extraído</th>\n",
       "    </tr>\n",
       "  </thead>\n",
       "  <tbody>\n",
       "    <tr>\n",
       "      <th>0</th>\n",
       "      <td>0</td>\n",
       "      <td>INA - INSTRUÇÃO ADMINISTRATIVA 001/2019</td>\n",
       "      <td>05/04/2019</td>\n",
       "      <td>Dispõe sobre procedimentos para atualização, m...</td>\n",
       "      <td>SGI/ANEEL</td>\n",
       "      <td>Procedimento \\n</td>\n",
       "      <td>http://www2.aneel.gov.br/cedoc/ina2019001sgi.pdf</td>\n",
       "      <td>INA</td>\n",
       "      <td>ina2019001sgi.pdf</td>\n",
       "      <td>AGÊNCIA NACIONAL DE ENERGIA ELÉTRICA - ANEEL  ...</td>\n",
       "    </tr>\n",
       "    <tr>\n",
       "      <th>1</th>\n",
       "      <td>1</td>\n",
       "      <td>INA - INSTRUÇÃO ADMINISTRATIVA 001/2018</td>\n",
       "      <td>25/05/2018</td>\n",
       "      <td>Dispõe sobre procedimentos para a manutenção d...</td>\n",
       "      <td>SGI/ANEEL</td>\n",
       "      <td>Procedimento \\n</td>\n",
       "      <td>http://www2.aneel.gov.br/cedoc/ina2018001sgi.pdf</td>\n",
       "      <td>INA</td>\n",
       "      <td>ina2018001sgi.pdf</td>\n",
       "      <td>AGÊNCIA NACIONAL DE ENERGIA ELÉTRICA - ANEEL  ...</td>\n",
       "    </tr>\n",
       "    <tr>\n",
       "      <th>2</th>\n",
       "      <td>2</td>\n",
       "      <td>INA - INSTRUÇÃO ADMINISTRATIVA 001/2018</td>\n",
       "      <td>04/05/2018</td>\n",
       "      <td>Altera o limite do valor de reembolso relativo...</td>\n",
       "      <td>SRH/ANEEL</td>\n",
       "      <td>Alteração \\n</td>\n",
       "      <td>http://www2.aneel.gov.br/cedoc/ina2018001srh.pdf</td>\n",
       "      <td>INA</td>\n",
       "      <td>ina2018001srh.pdf</td>\n",
       "      <td>AGÊNCIA NACIONAL DE ENERGIA ELÉTRICA - ANEEL  ...</td>\n",
       "    </tr>\n",
       "    <tr>\n",
       "      <th>3</th>\n",
       "      <td>3</td>\n",
       "      <td>INA - INSTRUÇÃO ADMINISTRATIVA 002/2019</td>\n",
       "      <td>20/05/2019</td>\n",
       "      <td>Dispõe sobre a composição e o funcionamento do...</td>\n",
       "      <td>SGI/ANEEL</td>\n",
       "      <td>Fixação \\n</td>\n",
       "      <td>http://www2.aneel.gov.br/cedoc/ina2019002sgi.pdf</td>\n",
       "      <td>INA</td>\n",
       "      <td>ina2019002sgi.pdf</td>\n",
       "      <td>AGÊNCIA NACIONAL DE ENERGIA ELÉTRICA  ANEEL   ...</td>\n",
       "    </tr>\n",
       "    <tr>\n",
       "      <th>4</th>\n",
       "      <td>4</td>\n",
       "      <td>INA - INSTRUÇÃO ADMINISTRATIVA 003/2019</td>\n",
       "      <td>13/09/2019</td>\n",
       "      <td>Dispõe sobre a definição de acrônimos das coor...</td>\n",
       "      <td>SGI/ANEEL</td>\n",
       "      <td>Fixação \\n</td>\n",
       "      <td>http://www2.aneel.gov.br/cedoc/ina2019003sgi.pdf</td>\n",
       "      <td>INA</td>\n",
       "      <td>ina2019003sgi.pdf</td>\n",
       "      <td>AGÊNCIA NACIONAL DE ENERGIA ELÉTRICA - ANEEL  ...</td>\n",
       "    </tr>\n",
       "  </tbody>\n",
       "</table>\n",
       "</div>"
      ],
      "text/plain": [
       "   Unnamed: 0  ...                                     Texto Extraído\n",
       "0           0  ...  AGÊNCIA NACIONAL DE ENERGIA ELÉTRICA - ANEEL  ...\n",
       "1           1  ...  AGÊNCIA NACIONAL DE ENERGIA ELÉTRICA - ANEEL  ...\n",
       "2           2  ...  AGÊNCIA NACIONAL DE ENERGIA ELÉTRICA - ANEEL  ...\n",
       "3           3  ...  AGÊNCIA NACIONAL DE ENERGIA ELÉTRICA  ANEEL   ...\n",
       "4           4  ...  AGÊNCIA NACIONAL DE ENERGIA ELÉTRICA - ANEEL  ...\n",
       "\n",
       "[5 rows x 10 columns]"
      ]
     },
     "execution_count": 16,
     "metadata": {
      "tags": []
     },
     "output_type": "execute_result"
    }
   ],
   "source": [
    "df = pd.read_csv('LanguageModelFile.csv', delimiter='|')\n",
    "df.head()"
   ]
  },
  {
   "cell_type": "code",
   "execution_count": 17,
   "metadata": {
    "colab": {
     "base_uri": "https://localhost:8080/",
     "height": 204
    },
    "colab_type": "code",
    "id": "zUea_v07rX1p",
    "outputId": "a578e41e-81c1-4bf9-e969-b9959642e9ef"
   },
   "outputs": [
    {
     "data": {
      "text/plain": [
       "Unnamed: 0            0\n",
       "Norma                 0\n",
       "Data de publicação    0\n",
       "Ementa                0\n",
       "Órgão de origem       0\n",
       "Assuntos              0\n",
       "Texto Integral        0\n",
       "Tipo                  0\n",
       "Filename              0\n",
       "Texto Extraído        1\n",
       "dtype: int64"
      ]
     },
     "execution_count": 17,
     "metadata": {
      "tags": []
     },
     "output_type": "execute_result"
    }
   ],
   "source": [
    "df.isnull().sum()"
   ]
  },
  {
   "cell_type": "markdown",
   "metadata": {
    "colab_type": "text",
    "id": "N9O15irtrdyT"
   },
   "source": [
    "\n",
    "Here it was identified that exist NaN cells in the DataFrame, whose colunms should be stripped."
   ]
  },
  {
   "cell_type": "code",
   "execution_count": 18,
   "metadata": {
    "colab": {
     "base_uri": "https://localhost:8080/",
     "height": 204
    },
    "colab_type": "code",
    "id": "suGIbaCarciy",
    "outputId": "06c725b6-81dd-4fc0-f39c-4fd0e65b16c7"
   },
   "outputs": [
    {
     "data": {
      "text/plain": [
       "Unnamed: 0            0\n",
       "Norma                 0\n",
       "Data de publicação    0\n",
       "Ementa                0\n",
       "Órgão de origem       0\n",
       "Assuntos              0\n",
       "Texto Integral        0\n",
       "Tipo                  0\n",
       "Filename              0\n",
       "Texto Extraído        0\n",
       "dtype: int64"
      ]
     },
     "execution_count": 18,
     "metadata": {
      "tags": []
     },
     "output_type": "execute_result"
    }
   ],
   "source": [
    "df_tv = df.dropna()\n",
    "df_tv.isnull().sum()"
   ]
  },
  {
   "cell_type": "code",
   "execution_count": 0,
   "metadata": {
    "colab": {},
    "colab_type": "code",
    "id": "ss-hI4SMrnw0"
   },
   "outputs": [],
   "source": [
    "df_tv.to_csv('LanguageModelFile_cleaned.csv', sep='|')"
   ]
  },
  {
   "cell_type": "markdown",
   "metadata": {
    "colab_type": "text",
    "id": "T9nsiG3Zu51k"
   },
   "source": [
    "## Fine-tuning \"forward LM\""
   ]
  },
  {
   "cell_type": "code",
   "execution_count": 0,
   "metadata": {
    "colab": {},
    "colab_type": "code",
    "id": "JGC-KJn5ySWq"
   },
   "outputs": [],
   "source": [
    "reviews = \"Texto Extraído\"\n",
    "label = \"Assuntos\""
   ]
  },
  {
   "cell_type": "code",
   "execution_count": 0,
   "metadata": {
    "colab": {},
    "colab_type": "code",
    "id": "iZgFVT7lp0ln"
   },
   "outputs": [],
   "source": [
    "df_tv['Texto Extraído'] = df_tv['Texto Extraído'].apply(lambda x: re.sub(r'\\s+',' ',x))\n",
    "df_tv['Texto Extraído'] = df_tv['Texto Extraído'].apply(lambda x: re.sub(r'\\.\\.+','.',x))"
   ]
  },
  {
   "cell_type": "code",
   "execution_count": 37,
   "metadata": {
    "colab": {
     "base_uri": "https://localhost:8080/",
     "height": 17
    },
    "colab_type": "code",
    "id": "StiMYSnMwOk3",
    "outputId": "67c207ca-4167-475b-a5d4-2570ed2f37af"
   },
   "outputs": [
    {
     "data": {
      "text/html": [],
      "text/plain": [
       "<IPython.core.display.HTML object>"
      ]
     },
     "metadata": {
      "tags": []
     },
     "output_type": "display_data"
    },
    {
     "data": {
      "text/html": [],
      "text/plain": [
       "<IPython.core.display.HTML object>"
      ]
     },
     "metadata": {
      "tags": []
     },
     "output_type": "display_data"
    }
   ],
   "source": [
    "data_lm = (TextList.from_df(df_tv, '.', cols=reviews, processor=SPProcessor.load('models/'))\n",
    "            .split_by_rand_pct(0.1, seed=42)\n",
    "            .label_for_lm()           \n",
    "            .databunch(bs=bs, num_workers=1))\n",
    "\n",
    "# Why fastai.text doesn't come with SentencePiece module?"
   ]
  },
  {
   "cell_type": "code",
   "execution_count": 38,
   "metadata": {
    "colab": {
     "base_uri": "https://localhost:8080/",
     "height": 442
    },
    "colab_type": "code",
    "id": "ambUqTMsyOav",
    "outputId": "18b99e14-ade4-4ad6-cdb2-a6f610ac04b1"
   },
   "outputs": [
    {
     "data": {
      "text/html": [
       "<table border=\"1\" class=\"dataframe\">\n",
       "  <thead>\n",
       "    <tr style=\"text-align: right;\">\n",
       "      <th>idx</th>\n",
       "      <th>text</th>\n",
       "    </tr>\n",
       "  </thead>\n",
       "  <tbody>\n",
       "    <tr>\n",
       "      <td>0</td>\n",
       "      <td>▁câmara ▁de ▁xxmaj ▁comercialização ▁de ▁xxmaj ▁energia ▁xxmaj ▁elétrica ▁xxmaj ▁voto ▁xxmaj ▁anexo ▁o ▁xxup ▁diretor - geral ▁xxup ▁da ▁xxup ▁agência ▁xxup ▁nacional ▁xxup ▁de ▁xxup ▁energia ▁xxup ▁elétrica ▁ - ▁xxup ▁a ne el , ▁no ▁uso ▁de ▁suas ▁atribui ções ▁ regi mentais , ▁de ▁acordo ▁com ▁de libera ção ▁da ▁xxmaj ▁diretoria , ▁tendo ▁em ▁vista ▁o ▁disposto ▁no ▁art . ▁3 o ▁da ▁xxmaj ▁lei</td>\n",
       "    </tr>\n",
       "    <tr>\n",
       "      <td>1</td>\n",
       "      <td>200 3, ▁seção ▁1 , ▁p . ▁ 67 , ▁v . ▁1 40 , ▁ n . ▁ 99 . ▁xxbos ▁xxup ▁agência ▁xxup ▁nacional ▁xxup ▁de ▁xxup ▁energia ▁xxup ▁elétrica ▁ - ▁xxup ▁a ne el ▁xxup ▁resolução ▁xxmaj ▁no ▁3 32 ▁xxup ▁de ▁13 ▁xxup ▁de ▁xxup ▁agosto ▁xxup ▁de ▁2001. ▁xxmaj ▁dispõe ▁sobre ▁o ▁tratamento ▁tar if ário ▁a ▁ser ▁aplicado ▁aos ▁recursos ▁re passa dos</td>\n",
       "    </tr>\n",
       "    <tr>\n",
       "      <td>2</td>\n",
       "      <td>▁art . ▁4 o ▁e ▁xxup ▁iv ▁do ▁art . ▁10 , ▁do ▁xxmaj ▁anexo ▁i ▁do ▁xxmaj ▁decreto ▁no ▁2. 33 5 , ▁de ▁6 ▁de ▁outubro ▁de ▁1997, ▁nos ▁art s . ▁20 ▁e ▁21 ▁do ▁xxmaj ▁decreto ▁no ▁2. 65 5 , ▁de ▁2 ▁de ▁julho ▁de ▁1998, ▁com ▁a ▁redação ▁dada ▁pelo ▁art . ▁2 o ▁do ▁xxmaj ▁decreto ▁no ▁3. 65 3, ▁de ▁7 ▁de</td>\n",
       "    </tr>\n",
       "    <tr>\n",
       "      <td>3</td>\n",
       "      <td>▁rea s s enta mentos ▁da ▁população ▁atingida , ▁se ▁houve r , ▁assumindo ▁os ▁custos ▁correspondente s , ▁deve ndo ▁e fe tu ar , ▁também , ▁todas ▁as ▁in den izações ▁de vidas ▁por ▁danos ▁de corrente s ▁das ▁obras ▁e ▁serviços , ▁causado s ▁a ▁terceiro s , ▁cujos ▁direitos ▁ficam ▁ res s alva dos ▁nesta ▁xxmaj ▁autorização ; ▁xxup ▁iv ▁ - ▁organizar ▁e ▁manter</td>\n",
       "    </tr>\n",
       "    <tr>\n",
       "      <td>4</td>\n",
       "      <td>▁de ▁setembro ▁de ▁2002. ▁xxup ▁braga n tina ▁xxup ▁ ta ri fa ▁xxup ▁de ▁xxup ▁ultrapassa gem ▁xxup ▁hor o - sa zona l ▁xxup ▁azul ▁xxup ▁segmento ▁xxup ▁demanda ▁xxup ▁( r $ ▁/ ▁kw ) ▁xxup ▁hor o - sa zona l ▁xxup ▁ponta ▁xxup ▁fora ▁xxup ▁de ▁xxup ▁ponta ▁xxup ▁sub grupo ▁xxup ▁seca ▁xxup ▁ou ▁xxup ▁ ú mi da ▁xxup ▁seca ▁xxup ▁ou ▁xxup</td>\n",
       "    </tr>\n",
       "  </tbody>\n",
       "</table>"
      ],
      "text/plain": [
       "<IPython.core.display.HTML object>"
      ]
     },
     "metadata": {
      "tags": []
     },
     "output_type": "display_data"
    }
   ],
   "source": [
    "data_lm.show_batch()"
   ]
  },
  {
   "cell_type": "code",
   "execution_count": 0,
   "metadata": {
    "colab": {},
    "colab_type": "code",
    "id": "hx8u0AtG3zCk"
   },
   "outputs": [],
   "source": [
    "data_lm.save('aneel_norms_sp15_multifit_v1')"
   ]
  },
  {
   "cell_type": "markdown",
   "metadata": {
    "colab_type": "text",
    "id": "R94ctzoh4MMI"
   },
   "source": [
    "#### Training"
   ]
  },
  {
   "cell_type": "code",
   "execution_count": 0,
   "metadata": {
    "colab": {},
    "colab_type": "code",
    "id": "1QnRnWac4OVZ"
   },
   "outputs": [],
   "source": [
    "config = awd_lstm_lm_config.copy()\n",
    "config['qrnn'] = True\n",
    "config['n_hid'] = 1550 #default 1152\n",
    "config['n_layers'] = 4 #default 3"
   ]
  },
  {
   "cell_type": "code",
   "execution_count": 0,
   "metadata": {
    "colab": {},
    "colab_type": "code",
    "id": "VVKvW6EI4jTv"
   },
   "outputs": [],
   "source": [
    "perplexity = Perplexity()\n",
    "\n",
    "learn_lm = language_model_learner(data_lm, AWD_LSTM, config=config, \n",
    "                                  pretrained_fnames=lm_fns3, drop_mult=1.,\n",
    "                                  metrics=[error_rate, accuracy, perplexity],\n",
    "                                  callback_fns=ShowGraph)"
   ]
  },
  {
   "cell_type": "code",
   "execution_count": 0,
   "metadata": {
    "colab": {},
    "colab_type": "code",
    "id": "mgGupz25iBan"
   },
   "outputs": [],
   "source": [
    "learn_lm.loss_func = FlattenedLoss(LabelSmoothingCrossEntropy)"
   ]
  },
  {
   "cell_type": "code",
   "execution_count": 43,
   "metadata": {
    "colab": {
     "base_uri": "https://localhost:8080/",
     "height": 34
    },
    "colab_type": "code",
    "id": "_PwXPTAcEuGK",
    "outputId": "cfecd47c-f41e-4642-b4b4-e49d96023b4f"
   },
   "outputs": [
    {
     "data": {
      "text/html": [],
      "text/plain": [
       "<IPython.core.display.HTML object>"
      ]
     },
     "metadata": {
      "tags": []
     },
     "output_type": "display_data"
    },
    {
     "name": "stdout",
     "output_type": "stream",
     "text": [
      "LR Finder is complete, type {learner_name}.recorder.plot() to see the graph.\n"
     ]
    }
   ],
   "source": [
    "learn_lm.lr_find()"
   ]
  },
  {
   "cell_type": "code",
   "execution_count": 44,
   "metadata": {
    "colab": {
     "base_uri": "https://localhost:8080/",
     "height": 313
    },
    "colab_type": "code",
    "id": "kqPwMBxOiEH5",
    "outputId": "5ea6791c-6108-4f3a-802e-b908d61fa968"
   },
   "outputs": [
    {
     "name": "stdout",
     "output_type": "stream",
     "text": [
      "Min numerical gradient: 8.32E-02\n",
      "Min loss divided by 10: 4.37E-02\n"
     ]
    },
    {
     "data": {
      "image/png": "[encoded data removed]",
      "text/plain": [
       "<Figure size 432x288 with 1 Axes>"
      ]
     },
     "metadata": {
      "tags": []
     },
     "output_type": "display_data"
    }
   ],
   "source": [
    "learn_lm.recorder.plot(suggestion=True)"
   ]
  },
  {
   "cell_type": "code",
   "execution_count": 0,
   "metadata": {
    "colab": {},
    "colab_type": "code",
    "id": "7_HxQC8ljmps"
   },
   "outputs": [],
   "source": [
    "lr = 2e-2\n",
    "wd = 0.1"
   ]
  },
  {
   "cell_type": "code",
   "execution_count": 56,
   "metadata": {
    "colab": {
     "base_uri": "https://localhost:8080/",
     "height": 393
    },
    "colab_type": "code",
    "id": "eeu1goHSkwbI",
    "outputId": "5b9edcec-38e5-411a-c6b1-5991c9c5941a"
   },
   "outputs": [
    {
     "data": {
      "text/html": [
       "<table border=\"1\" class=\"dataframe\">\n",
       "  <thead>\n",
       "    <tr style=\"text-align: left;\">\n",
       "      <th>epoch</th>\n",
       "      <th>train_loss</th>\n",
       "      <th>valid_loss</th>\n",
       "      <th>error_rate</th>\n",
       "      <th>accuracy</th>\n",
       "      <th>perplexity</th>\n",
       "      <th>time</th>\n",
       "    </tr>\n",
       "  </thead>\n",
       "  <tbody>\n",
       "    <tr>\n",
       "      <td>0</td>\n",
       "      <td>4.890419</td>\n",
       "      <td>4.146779</td>\n",
       "      <td>0.613982</td>\n",
       "      <td>0.386017</td>\n",
       "      <td>23.977032</td>\n",
       "      <td>02:42</td>\n",
       "    </tr>\n",
       "    <tr>\n",
       "      <td>1</td>\n",
       "      <td>4.666900</td>\n",
       "      <td>3.981312</td>\n",
       "      <td>0.594662</td>\n",
       "      <td>0.405338</td>\n",
       "      <td>20.126120</td>\n",
       "      <td>02:50</td>\n",
       "    </tr>\n",
       "  </tbody>\n",
       "</table>"
      ],
      "text/plain": [
       "<IPython.core.display.HTML object>"
      ]
     },
     "metadata": {
      "tags": []
     },
     "output_type": "display_data"
    },
    {
     "data": {
      "image/png": "[encoded data removed]",
      "text/plain": [
       "<Figure size 432x288 with 1 Axes>"
      ]
     },
     "metadata": {
      "tags": []
     },
     "output_type": "display_data"
    },
    {
     "name": "stdout",
     "output_type": "stream",
     "text": [
      "Better model found at epoch 0 with accuracy value: 0.38601747155189514.\n",
      "Better model found at epoch 1 with accuracy value: 0.4053378999233246.\n"
     ]
    }
   ],
   "source": [
    "learn_lm.fit_one_cycle(2, lr, wd=wd, moms=(0.8,0.7),\n",
    "                       callbacks=[callbacks.SaveModelCallback(learn_lm, every='improvement', monitor='accuracy', name='stage-1')])"
   ]
  },
  {
   "cell_type": "code",
   "execution_count": 57,
   "metadata": {
    "colab": {
     "base_uri": "https://localhost:8080/",
     "height": 393
    },
    "colab_type": "code",
    "id": "MUZfjiTDlpxH",
    "outputId": "6b949c0b-e76b-400e-c441-bf5aa43c2eb7"
   },
   "outputs": [
    {
     "data": {
      "text/html": [
       "<table border=\"1\" class=\"dataframe\">\n",
       "  <thead>\n",
       "    <tr style=\"text-align: left;\">\n",
       "      <th>epoch</th>\n",
       "      <th>train_loss</th>\n",
       "      <th>valid_loss</th>\n",
       "      <th>error_rate</th>\n",
       "      <th>accuracy</th>\n",
       "      <th>perplexity</th>\n",
       "      <th>time</th>\n",
       "    </tr>\n",
       "  </thead>\n",
       "  <tbody>\n",
       "    <tr>\n",
       "      <td>0</td>\n",
       "      <td>3.386073</td>\n",
       "      <td>3.464350</td>\n",
       "      <td>0.464454</td>\n",
       "      <td>0.535546</td>\n",
       "      <td>11.677833</td>\n",
       "      <td>03:34</td>\n",
       "    </tr>\n",
       "    <tr>\n",
       "      <td>1</td>\n",
       "      <td>3.074587</td>\n",
       "      <td>3.000200</td>\n",
       "      <td>0.391242</td>\n",
       "      <td>0.608758</td>\n",
       "      <td>7.119733</td>\n",
       "      <td>03:33</td>\n",
       "    </tr>\n",
       "  </tbody>\n",
       "</table>"
      ],
      "text/plain": [
       "<IPython.core.display.HTML object>"
      ]
     },
     "metadata": {
      "tags": []
     },
     "output_type": "display_data"
    },
    {
     "data": {
      "image/png": "[encoded data removed]",
      "text/plain": [
       "<Figure size 432x288 with 1 Axes>"
      ]
     },
     "metadata": {
      "tags": []
     },
     "output_type": "display_data"
    },
    {
     "name": "stdout",
     "output_type": "stream",
     "text": [
      "Better model found at epoch 0 with accuracy value: 0.5355461239814758.\n",
      "Better model found at epoch 1 with accuracy value: 0.6087576746940613.\n"
     ]
    }
   ],
   "source": [
    "learn_lm.unfreeze()\n",
    "learn_lm.fit_one_cycle(2, lr, wd=wd, moms=(0.8,0.7),\n",
    "                       callbacks=[callbacks.SaveModelCallback(learn_lm, every='improvement', monitor='accuracy', name='stage-2')])"
   ]
  },
  {
   "cell_type": "code",
   "execution_count": 0,
   "metadata": {
    "colab": {},
    "colab_type": "code",
    "id": "C7c_dWMuptsL"
   },
   "outputs": [],
   "source": [
    "learn_lm.export()"
   ]
  },
  {
   "cell_type": "markdown",
   "metadata": {
    "colab_type": "text",
    "id": "XIdiK_iBp5AH"
   },
   "source": [
    "## Get vector representation of texts."
   ]
  },
  {
   "cell_type": "code",
   "execution_count": 0,
   "metadata": {
    "colab": {},
    "colab_type": "code",
    "id": "22LhEA5S_Csj"
   },
   "outputs": [],
   "source": [
    "normas = list(pd.read_csv('Similarity-ANEEL/interesting_norms.csv',sep='|',encoding='utf-8')['Texto Extraído'])"
   ]
  },
  {
   "cell_type": "code",
   "execution_count": 60,
   "metadata": {
    "colab": {
     "base_uri": "https://localhost:8080/",
     "height": 136
    },
    "colab_type": "code",
    "id": "5X95YPVe_rnP",
    "outputId": "d932a0a2-dd00-41d7-a8d0-0fd419924997"
   },
   "outputs": [
    {
     "name": "stdout",
     "output_type": "stream",
     "text": [
      "18 out of 496\n",
      "27 out of 496\n",
      "54 out of 496\n",
      "81 out of 496\n",
      "162 out of 496\n",
      "243 out of 496\n",
      "486 out of 496\n"
     ]
    }
   ],
   "source": [
    "#Here I get the vector representation of the text using the trained encoder\n",
    "mbe = MultiBatchEncoder(70,1400,learn_lm.model[0])\n",
    "\n",
    "def masked_concat_pool(outputs, mask):\n",
    "    \"Pool MultiBatchEncoder outputs into one vector [last_hidden, max_pool, avg_pool].\"\n",
    "    output = outputs[-1]\n",
    "    avg_pool = output.masked_fill(mask[:, :, None], 0).mean(dim=1)\n",
    "    avg_pool *= output.size(1) / (output.size(1)-mask.type(avg_pool.dtype).sum(dim=1))[:,None]\n",
    "    max_pool = output.masked_fill(mask[:,:,None], -float('inf')).max(dim=1)[0]\n",
    "    x = torch.cat([output[:,-1], max_pool, avg_pool], 1)\n",
    "    return x\n",
    "\n",
    "X = np.zeros((1,1200))\n",
    "i=0\n",
    "for norma in normas:\n",
    "    xb,yb = learn_lm.data.one_item(norma)\n",
    "    sentence = torch.cuda.LongTensor(xb.tolist()[0]).unsqueeze(0)\n",
    "    raw_outputs, outputs, masks = mbe.forward(sentence)\n",
    "    sentence_rep = masked_concat_pool(outputs, masks)\n",
    "    x = sentence_rep.cpu().detach().numpy()[0]\n",
    "    x.shape = (1,1200)\n",
    "    X = np.append(X,x,axis=0)\n",
    "    if len(normas) % (i+1) == 10: print(str(i+1) + ' out of ' + str(len(normas)))\n",
    "    i+=1"
   ]
  },
  {
   "cell_type": "code",
   "execution_count": 0,
   "metadata": {
    "colab": {},
    "colab_type": "code",
    "id": "Vbh47c38DXCr"
   },
   "outputs": [],
   "source": [
    "X = np.delete(X, (0), axis=0)\n",
    "np.save('X_LM', X)"
   ]
  },
  {
   "cell_type": "code",
   "execution_count": 0,
   "metadata": {
    "colab": {},
    "colab_type": "code",
    "id": "QKSwtHYeHEyW"
   },
   "outputs": [],
   "source": []
  }
 ],
 "metadata": {
  "accelerator": "GPU",
  "colab": {
   "collapsed_sections": [],
   "name": "MultiFit_ANEEL.ipynb",
   "provenance": [],
   "toc_visible": true
  },
  "kernelspec": {
   "display_name": "Python 3",
   "language": "python",
   "name": "python3"
  },
  "language_info": {
   "codemirror_mode": {
    "name": "ipython",
    "version": 3
   },
   "file_extension": ".py",
   "mimetype": "text/x-python",
   "name": "python",
   "nbconvert_exporter": "python",
   "pygments_lexer": "ipython3",
   "version": "3.7.4"
  }
 },
 "nbformat": 4,
 "nbformat_minor": 1
}
